{
  "nbformat": 4,
  "nbformat_minor": 0,
  "metadata": {
    "colab": {
      "name": "test_discriminator.ipynb",
      "provenance": [],
      "collapsed_sections": []
    },
    "kernelspec": {
      "name": "python3",
      "display_name": "Python 3"
    }
  },
  "cells": [
    {
      "cell_type": "code",
      "execution_count": 1,
      "metadata": {
        "colab": {
          "base_uri": "https://localhost:8080/",
          "height": 170
        },
        "colab_type": "code",
        "id": "c39KzsJgQmw_",
        "outputId": "162109b7-aeff-4c39-df55-358d3247fd1b"
      },
      "outputs": [
        {
          "name": "stdout",
          "output_type": "stream",
          "text": [
            "Cloning into 'GeneratingHeadline_GANs'...\n",
            "remote: Enumerating objects: 57, done.\u001b[K\n",
            "remote: Counting objects: 100% (57/57), done.\u001b[K\n",
            "remote: Compressing objects: 100% (35/35), done.\u001b[K\n",
            "remote: Total 486 (delta 23), reused 42 (delta 11), pack-reused 429\u001b[K\n",
            "Receiving objects: 100% (486/486), 16.98 MiB | 37.56 MiB/s, done.\n",
            "Resolving deltas: 100% (217/217), done.\n",
            "/content/GeneratingHeadline_GANs\n"
          ]
        },
        {
          "data": {
            "text/plain": [
              "'cpu'"
            ]
          },
          "execution_count": 1,
          "metadata": {
            "tags": []
          },
          "output_type": "execute_result"
        }
      ],
      "source": [
        "import numpy as np\n",
        "import pandas as pd\n",
        "import torch\n",
        "import torch.nn as nn\n",
        "import torch.nn.functional as F\n",
        "import torch.optim as optim\n",
        "import pickle\n",
        "import random\n",
        "import re\n",
        "import sklearn.model_selection as sk_ModelSelection\n",
        "#increase field limit to read embedding\n",
        "import sys\n",
        "!git clone https://github.com/guol1nag/GeneratingHeadline_GANs.git\n",
        "%cd GeneratingHeadline_GANs\n",
        "%run ./Code/Models/CNN_text_clf.py\n",
        "%run ./Code/Models/discriminator_training_class.py\n",
        "%run ./Code/data2PaddedArray.py\n",
        "%run ./Code/text_preprocessing.py\n",
        "%run ./Code/contractions.py\n",
        "device = torch.device(\"cuda\" if torch.cuda.is_available() else \"cpu\")\n",
        "torch.cuda.get_device_name() if torch.cuda.is_available() else \"cpu\""
      ]
    },
    {
      "cell_type": "code",
      "execution_count": 2,
      "metadata": {
        "colab": {
          "base_uri": "https://localhost:8080/",
          "height": 34
        },
        "colab_type": "code",
        "id": "1ybNOKU4RQuK",
        "outputId": "a3a6bb51-072d-4ff9-e543-1e839009ac02"
      },
      "outputs": [
        {
          "name": "stdout",
          "output_type": "stream",
          "text": [
            "Drive already mounted at /content/drive; to attempt to forcibly remount, call drive.mount(\"/content/drive\", force_remount=True).\n"
          ]
        }
      ],
      "source": [
        "from google.colab import drive\n",
        "drive.mount('/content/drive')"
      ]
    },
    {
      "cell_type": "code",
      "execution_count": 4,
      "metadata": {
        "colab": {
          "base_uri": "https://localhost:8080/",
          "height": 34
        },
        "colab_type": "code",
        "id": "5ewkZnSMcm5c",
        "outputId": "7a0ee1d2-6725-45aa-f9aa-5f7c1adfb0ad"
      },
      "outputs": [
        {
          "data": {
            "text/plain": [
              "5"
            ]
          },
          "execution_count": 4,
          "metadata": {
            "tags": []
          },
          "output_type": "execute_result"
        }
      ],
      "source": [
        "path = r'/content/drive/My Drive/pre_train_weight.csv'\n",
        "pre_train_weight = np.loadtxt(path)\n",
        "gc.collect()"
      ]
    },
    {
      "cell_type": "code",
      "execution_count": null,
      "metadata": {},
      "outputs": [],
      "source": [
        "'''\n",
        "X_train is the -> \n",
        "'''"
      ]
    },
    {
      "cell_type": "code",
      "execution_count": 35,
      "metadata": {
        "colab": {
          "base_uri": "https://localhost:8080/",
          "height": 51
        },
        "colab_type": "code",
        "id": "tDsjwoLZIKCz",
        "outputId": "0c7c93bc-f427-4f8d-b607-dc2e9b0398a5"
      },
      "outputs": [
        {
          "name": "stdout",
          "output_type": "stream",
          "text": [
            "number of sample; length of summary\n"
          ]
        },
        {
          "data": {
            "text/plain": [
              "torch.Size([100, 33])"
            ]
          },
          "execution_count": 35,
          "metadata": {
            "tags": []
          },
          "output_type": "execute_result"
        }
      ],
      "source": [
        "print('number of sample; length of summary')\n",
        "X_train = torch.from_numpy(np.transpose(headline_train)).long()\n",
        "X_train.shape"
      ]
    },
    {
      "cell_type": "code",
      "execution_count": 40,
      "metadata": {
        "colab": {
          "base_uri": "https://localhost:8080/",
          "height": 34
        },
        "colab_type": "code",
        "id": "w8Dyga9yF0oQ",
        "outputId": "b11f220e-daab-4faf-aebf-5a500bee1f18"
      },
      "outputs": [
        {
          "data": {
            "text/plain": [
              "torch.Size([100])"
            ]
          },
          "execution_count": 40,
          "metadata": {
            "tags": []
          },
          "output_type": "execute_result"
        }
      ],
      "source": [
        "y_train = (torch.rand(100) > 0.5).long()\n",
        "y_train.size()"
      ]
    },
    {
      "cell_type": "markdown",
      "metadata": {
        "colab_type": "text",
        "id": "N5QeMH8ORamz"
      },
      "source": [
        "\n",
        "# discriminator"
      ]
    },
    {
      "cell_type": "code",
      "execution_count": 0,
      "metadata": {
        "colab": {},
        "colab_type": "code",
        "id": "IQMME-QZpTbJ"
      },
      "outputs": [],
      "source": [
        "# Discriminator_utility.show_parameter()"
      ]
    },
    {
      "cell_type": "code",
      "execution_count": 0,
      "metadata": {
        "colab": {},
        "colab_type": "code",
        "id": "Wt7uNvKhHZem"
      },
      "outputs": [],
      "source": [
        "param = {'max_epochs':64,\n",
        "        'learning_rate':1e-3,\n",
        "        'batch_size':5,               \n",
        "        'seq_len': 20,                   # length of your summary\n",
        "        'embed_dim': 200,\n",
        "        'drop_out': 0,\n",
        "        'kernel_num': 5,                 # number of your feature map\n",
        "        'in_channel': 1,                 # for text classification should be one\n",
        "        # how many conv net are used in parallel in text classification\n",
        "        'parallel_layer':3,\n",
        "        'model_name': 'discriminator',\n",
        "        'device':device}\n",
        "embedding = pre_train_weight"
      ]
    },
    {
      "cell_type": "code",
      "execution_count": 0,
      "metadata": {
        "colab": {},
        "colab_type": "code",
        "id": "EkekKBW-IdeY"
      },
      "outputs": [],
      "source": [
        "drt = Discriminator_utility(embedding,**param)"
      ]
    },
    {
      "cell_type": "code",
      "execution_count": 14,
      "metadata": {
        "colab": {
          "base_uri": "https://localhost:8080/",
          "height": 1000
        },
        "colab_type": "code",
        "id": "eM6tbCZWQJ9z",
        "outputId": "ee95c63f-5794-4015-9434-29a9f474f228"
      },
      "outputs": [
        {
          "name": "stdout",
          "output_type": "stream",
          "text": [
            "Epoch: 1:\n",
            "Train Loss: 14.112\n",
            "Validation Loss: 13.381\n",
            "Epoch: 2:\n",
            "Train Loss: 13.291\n",
            "Validation Loss: 12.713\n",
            "Epoch: 3:\n",
            "Train Loss: 12.620\n",
            "Validation Loss: 12.142\n",
            "Epoch: 4:\n",
            "Train Loss: 12.064\n",
            "Validation Loss: 11.481\n",
            "Epoch: 5:\n",
            "Train Loss: 11.411\n",
            "Validation Loss: 10.838\n",
            "Epoch: 6:\n",
            "Train Loss: 10.747\n",
            "Validation Loss: 10.160\n",
            "Epoch: 7:\n",
            "Train Loss: 10.125\n",
            "Validation Loss: 9.538\n",
            "Epoch: 8:\n",
            "Train Loss: 9.493\n",
            "Validation Loss: 8.953\n",
            "Epoch: 9:\n",
            "Train Loss: 8.936\n",
            "Validation Loss: 8.306\n",
            "Epoch: 10:\n",
            "Train Loss: 8.323\n",
            "Validation Loss: 7.739\n",
            "Epoch: 11:\n",
            "Train Loss: 7.772\n",
            "Validation Loss: 7.245\n",
            "Epoch: 12:\n",
            "Train Loss: 7.341\n",
            "Validation Loss: 6.861\n",
            "Epoch: 13:\n",
            "Train Loss: 6.911\n",
            "Validation Loss: 6.597\n",
            "Epoch: 14:\n",
            "Train Loss: 6.652\n",
            "Validation Loss: 6.183\n",
            "Epoch: 15:\n",
            "Train Loss: 6.301\n",
            "Validation Loss: 5.720\n",
            "Epoch: 16:\n",
            "Train Loss: 5.868\n",
            "Validation Loss: 5.450\n",
            "Epoch: 17:\n",
            "Train Loss: 5.585\n",
            "Validation Loss: 5.254\n",
            "Epoch: 18:\n",
            "Train Loss: 5.367\n",
            "Validation Loss: 4.981\n",
            "Epoch: 19:\n",
            "Train Loss: 5.125\n",
            "Validation Loss: 4.724\n",
            "Epoch: 20:\n",
            "Train Loss: 4.916\n",
            "Validation Loss: 4.594\n",
            "Epoch: 21:\n",
            "Train Loss: 4.717\n",
            "Validation Loss: 4.436\n",
            "Epoch: 22:\n",
            "Train Loss: 4.580\n",
            "Validation Loss: 4.263\n",
            "Epoch: 23:\n",
            "Train Loss: 4.450\n",
            "Validation Loss: 4.068\n",
            "Epoch: 24:\n",
            "Train Loss: 4.239\n",
            "Validation Loss: 3.914\n",
            "Epoch: 25:\n",
            "Train Loss: 4.093\n",
            "Validation Loss: 3.790\n",
            "Epoch: 26:\n",
            "Train Loss: 3.985\n",
            "Validation Loss: 3.659\n",
            "Epoch: 27:\n",
            "Train Loss: 3.851\n",
            "Validation Loss: 3.533\n",
            "Epoch: 28:\n",
            "Train Loss: 3.715\n",
            "Validation Loss: 3.456\n",
            "Epoch: 29:\n",
            "Train Loss: 3.640\n",
            "Validation Loss: 3.371\n",
            "Epoch: 30:\n",
            "Train Loss: 3.559\n",
            "Validation Loss: 3.263\n",
            "Epoch: 31:\n",
            "Train Loss: 3.451\n",
            "Validation Loss: 3.172\n",
            "Epoch: 32:\n",
            "Train Loss: 3.361\n",
            "Validation Loss: 3.065\n",
            "Epoch: 33:\n",
            "Train Loss: 3.254\n",
            "Validation Loss: 3.020\n",
            "Epoch: 34:\n",
            "Train Loss: 3.220\n",
            "Validation Loss: 2.913\n",
            "Epoch: 35:\n",
            "Train Loss: 3.112\n",
            "Validation Loss: 2.825\n",
            "Epoch: 36:\n",
            "Train Loss: 3.006\n",
            "Validation Loss: 2.768\n",
            "Epoch: 37:\n",
            "Train Loss: 2.950\n",
            "Validation Loss: 2.693\n",
            "Epoch: 38:\n",
            "Train Loss: 2.895\n",
            "Validation Loss: 2.627\n",
            "Epoch: 39:\n",
            "Train Loss: 2.803\n",
            "Validation Loss: 2.531\n"
          ]
        },
        {
          "ename": "KeyboardInterrupt",
          "evalue": "ignored",
          "output_type": "error",
          "traceback": [
            "\u001b[0;31m---------------------------------------------------------------------------\u001b[0m",
            "\u001b[0;31mKeyboardInterrupt\u001b[0m                         Traceback (most recent call last)",
            "\u001b[0;32m<ipython-input-14-ebe738a3d377>\u001b[0m in \u001b[0;36m<module>\u001b[0;34m()\u001b[0m\n\u001b[0;32m----> 1\u001b[0;31m \u001b[0mdrt\u001b[0m\u001b[0;34m.\u001b[0m\u001b[0mrun_epochs\u001b[0m\u001b[0;34m(\u001b[0m\u001b[0mX_train\u001b[0m\u001b[0;34m,\u001b[0m\u001b[0my_train\u001b[0m\u001b[0;34m,\u001b[0m\u001b[0mX_test\u001b[0m \u001b[0;34m=\u001b[0m \u001b[0mX_train\u001b[0m\u001b[0;34m,\u001b[0m\u001b[0my_test\u001b[0m \u001b[0;34m=\u001b[0m \u001b[0my_train\u001b[0m\u001b[0;34m)\u001b[0m\u001b[0;34m\u001b[0m\u001b[0;34m\u001b[0m\u001b[0m\n\u001b[0m",
            "\u001b[0;32m/content/GeneratingHeadline_GANs/Code/Models/discriminator_training_class.py\u001b[0m in \u001b[0;36mrun_epochs\u001b[0;34m(self, X_train, y_train, X_test, y_test)\u001b[0m\n\u001b[1;32m    139\u001b[0m         \u001b[0;32mfor\u001b[0m \u001b[0mepoch\u001b[0m \u001b[0;32min\u001b[0m \u001b[0mrange\u001b[0m\u001b[0;34m(\u001b[0m\u001b[0mself\u001b[0m\u001b[0;34m.\u001b[0m\u001b[0mgrid\u001b[0m\u001b[0;34m[\u001b[0m\u001b[0;34m'max_epochs'\u001b[0m\u001b[0;34m]\u001b[0m\u001b[0;34m)\u001b[0m\u001b[0;34m:\u001b[0m\u001b[0;34m\u001b[0m\u001b[0;34m\u001b[0m\u001b[0m\n\u001b[1;32m    140\u001b[0m \u001b[0;34m\u001b[0m\u001b[0m\n\u001b[0;32m--> 141\u001b[0;31m             \u001b[0mtrain_loss\u001b[0m \u001b[0;34m=\u001b[0m \u001b[0mself\u001b[0m\u001b[0;34m.\u001b[0m\u001b[0mtraining\u001b[0m\u001b[0;34m(\u001b[0m\u001b[0mX_train\u001b[0m\u001b[0;34m,\u001b[0m \u001b[0my_train\u001b[0m\u001b[0;34m)\u001b[0m\u001b[0;34m\u001b[0m\u001b[0;34m\u001b[0m\u001b[0m\n\u001b[0m\u001b[1;32m    142\u001b[0m             \u001b[0mvalid_loss\u001b[0m \u001b[0;34m=\u001b[0m \u001b[0mself\u001b[0m\u001b[0;34m.\u001b[0m\u001b[0mevaluation\u001b[0m\u001b[0;34m(\u001b[0m\u001b[0mX_test\u001b[0m\u001b[0;34m,\u001b[0m \u001b[0my_test\u001b[0m\u001b[0;34m)\u001b[0m\u001b[0;34m\u001b[0m\u001b[0;34m\u001b[0m\u001b[0m\n\u001b[1;32m    143\u001b[0m \u001b[0;34m\u001b[0m\u001b[0m\n",
            "\u001b[0;32m/content/GeneratingHeadline_GANs/Code/Models/discriminator_training_class.py\u001b[0m in \u001b[0;36mtraining\u001b[0;34m(self, X_train, y_train)\u001b[0m\n\u001b[1;32m     93\u001b[0m \u001b[0;34m\u001b[0m\u001b[0m\n\u001b[1;32m     94\u001b[0m             \u001b[0mloss\u001b[0m \u001b[0;34m=\u001b[0m \u001b[0mself\u001b[0m\u001b[0;34m.\u001b[0m\u001b[0mlossfunction\u001b[0m\u001b[0;34m(\u001b[0m\u001b[0mlocal_output\u001b[0m\u001b[0;34m,\u001b[0m \u001b[0mlocal_labels\u001b[0m\u001b[0;34m)\u001b[0m\u001b[0;34m\u001b[0m\u001b[0;34m\u001b[0m\u001b[0m\n\u001b[0;32m---> 95\u001b[0;31m             \u001b[0mloss\u001b[0m\u001b[0;34m.\u001b[0m\u001b[0mbackward\u001b[0m\u001b[0;34m(\u001b[0m\u001b[0;34m)\u001b[0m\u001b[0;34m\u001b[0m\u001b[0;34m\u001b[0m\u001b[0m\n\u001b[0m\u001b[1;32m     96\u001b[0m             \u001b[0mself\u001b[0m\u001b[0;34m.\u001b[0m\u001b[0moptimiser\u001b[0m\u001b[0;34m.\u001b[0m\u001b[0mstep\u001b[0m\u001b[0;34m(\u001b[0m\u001b[0;34m)\u001b[0m\u001b[0;34m\u001b[0m\u001b[0;34m\u001b[0m\u001b[0m\n\u001b[1;32m     97\u001b[0m             \u001b[0mepoch_loss\u001b[0m \u001b[0;34m+=\u001b[0m \u001b[0mloss\u001b[0m\u001b[0;34m.\u001b[0m\u001b[0mitem\u001b[0m\u001b[0;34m(\u001b[0m\u001b[0;34m)\u001b[0m\u001b[0;34m\u001b[0m\u001b[0;34m\u001b[0m\u001b[0m\n",
            "\u001b[0;32m/usr/local/lib/python3.6/dist-packages/torch/tensor.py\u001b[0m in \u001b[0;36mbackward\u001b[0;34m(self, gradient, retain_graph, create_graph)\u001b[0m\n\u001b[1;32m    193\u001b[0m                 \u001b[0mproducts\u001b[0m\u001b[0;34m.\u001b[0m \u001b[0mDefaults\u001b[0m \u001b[0mto\u001b[0m\u001b[0;31m \u001b[0m\u001b[0;31m`\u001b[0m\u001b[0;31m`\u001b[0m\u001b[0;32mFalse\u001b[0m\u001b[0;31m`\u001b[0m\u001b[0;31m`\u001b[0m\u001b[0;34m.\u001b[0m\u001b[0;34m\u001b[0m\u001b[0;34m\u001b[0m\u001b[0m\n\u001b[1;32m    194\u001b[0m         \"\"\"\n\u001b[0;32m--> 195\u001b[0;31m         \u001b[0mtorch\u001b[0m\u001b[0;34m.\u001b[0m\u001b[0mautograd\u001b[0m\u001b[0;34m.\u001b[0m\u001b[0mbackward\u001b[0m\u001b[0;34m(\u001b[0m\u001b[0mself\u001b[0m\u001b[0;34m,\u001b[0m \u001b[0mgradient\u001b[0m\u001b[0;34m,\u001b[0m \u001b[0mretain_graph\u001b[0m\u001b[0;34m,\u001b[0m \u001b[0mcreate_graph\u001b[0m\u001b[0;34m)\u001b[0m\u001b[0;34m\u001b[0m\u001b[0;34m\u001b[0m\u001b[0m\n\u001b[0m\u001b[1;32m    196\u001b[0m \u001b[0;34m\u001b[0m\u001b[0m\n\u001b[1;32m    197\u001b[0m     \u001b[0;32mdef\u001b[0m \u001b[0mregister_hook\u001b[0m\u001b[0;34m(\u001b[0m\u001b[0mself\u001b[0m\u001b[0;34m,\u001b[0m \u001b[0mhook\u001b[0m\u001b[0;34m)\u001b[0m\u001b[0;34m:\u001b[0m\u001b[0;34m\u001b[0m\u001b[0;34m\u001b[0m\u001b[0m\n",
            "\u001b[0;32m/usr/local/lib/python3.6/dist-packages/torch/autograd/__init__.py\u001b[0m in \u001b[0;36mbackward\u001b[0;34m(tensors, grad_tensors, retain_graph, create_graph, grad_variables)\u001b[0m\n\u001b[1;32m     97\u001b[0m     Variable._execution_engine.run_backward(\n\u001b[1;32m     98\u001b[0m         \u001b[0mtensors\u001b[0m\u001b[0;34m,\u001b[0m \u001b[0mgrad_tensors\u001b[0m\u001b[0;34m,\u001b[0m \u001b[0mretain_graph\u001b[0m\u001b[0;34m,\u001b[0m \u001b[0mcreate_graph\u001b[0m\u001b[0;34m,\u001b[0m\u001b[0;34m\u001b[0m\u001b[0;34m\u001b[0m\u001b[0m\n\u001b[0;32m---> 99\u001b[0;31m         allow_unreachable=True)  # allow_unreachable flag\n\u001b[0m\u001b[1;32m    100\u001b[0m \u001b[0;34m\u001b[0m\u001b[0m\n\u001b[1;32m    101\u001b[0m \u001b[0;34m\u001b[0m\u001b[0m\n",
            "\u001b[0;31mKeyboardInterrupt\u001b[0m: "
          ]
        }
      ],
      "source": [
        "drt.run_epochs(X_train,y_train,X_test = X_train,y_test = y_train)"
      ]
    },
    {
      "cell_type": "code",
      "execution_count": 0,
      "metadata": {
        "colab": {},
        "colab_type": "code",
        "id": "GvjPkLdNW5oO"
      },
      "outputs": [],
      "source": [
        ""
      ]
    }
  ]
}